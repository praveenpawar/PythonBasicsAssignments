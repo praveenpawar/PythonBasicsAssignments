{
 "cells": [
  {
   "cell_type": "markdown",
   "id": "f5cb3f99",
   "metadata": {},
   "source": [
    "# Assignment - 5 "
   ]
  },
  {
   "cell_type": "markdown",
   "id": "b819ac12",
   "metadata": {},
   "source": [
    "### by praveen pawar"
   ]
  },
  {
   "cell_type": "markdown",
   "id": "8fef6f19",
   "metadata": {},
   "source": [
    "### Q.1 What does an empty dictionary's code look like?"
   ]
  },
  {
   "cell_type": "code",
   "execution_count": null,
   "id": "35e43e5e",
   "metadata": {},
   "outputs": [],
   "source": [
    "There are two ways to create an empty dictionary in Python:\n",
    "\n",
    "1. Using empty curly braces:\n",
    "my_dict = {}\n",
    "\n",
    "2. Using the dict() function:\n",
    "my_dict = dict()\n"
   ]
  },
  {
   "cell_type": "markdown",
   "id": "b51056ff",
   "metadata": {},
   "source": [
    "### Q.2 What is the value of a dictionary value with the key 'foo' and the value 42?"
   ]
  },
  {
   "cell_type": "code",
   "execution_count": null,
   "id": "d85bf8f6",
   "metadata": {},
   "outputs": [],
   "source": [
    "The value of a dictionary value with the key 'foo' and the value 42 is 42.\n",
    "\n",
    "my_dict = {'foo': 42}\n",
    "\n",
    "You can access the value of the dictionary by using the key:\n",
    "my_dict['foo']\n",
    "This will return the value 42."
   ]
  },
  {
   "cell_type": "markdown",
   "id": "3debc50c",
   "metadata": {},
   "source": [
    "### Q.3  What is the most significant distinction between a dictionary and a list?"
   ]
  },
  {
   "cell_type": "code",
   "execution_count": null,
   "id": "2c2dc925",
   "metadata": {},
   "outputs": [],
   "source": [
    "The most significant distinction between a dictionary and a list is that a dictionary stores data \n",
    "in key-value pairs, while a list stores data in a sequential order. \n",
    "This means that you can access the value of a dictionary by its key, while you can access \n",
    "the value of a list by its index.\n",
    "\n",
    "# Create a dictionary\n",
    "my_dict = {'name': 'Ravi', 'age': 30}\n",
    "\n",
    "# Access the value of the dictionary by its key\n",
    "print(my_dict['name'])\n",
    "\n",
    "# Create a list\n",
    "my_list = ['Aman', 'Jay', 'Ravi']\n",
    "\n",
    "# Access the value of the list by its index\n",
    "print(my_list[2])\n"
   ]
  },
  {
   "cell_type": "markdown",
   "id": "8d4ab0c9",
   "metadata": {},
   "source": [
    "### Q.4 What happens if you try to access spam['foo'] if spam is {'bar': 100}?"
   ]
  },
  {
   "cell_type": "code",
   "execution_count": null,
   "id": "d53a47d5",
   "metadata": {},
   "outputs": [],
   "source": [
    "If you try to access spam['foo'] if spam is {'bar': 100}, you will get a KeyError. \n",
    "This is because the key 'foo' does not exist in the dictionary."
   ]
  },
  {
   "cell_type": "markdown",
   "id": "fb0b27e8",
   "metadata": {},
   "source": [
    "### Q.5 If a dictionary is stored in spam, what is the difference between the expressions 'cat' in spam and 'cat' in spam.keys()?"
   ]
  },
  {
   "cell_type": "code",
   "execution_count": null,
   "id": "ce606ac5",
   "metadata": {},
   "outputs": [],
   "source": [
    "The expressions 'cat' in spam and 'cat' in spam.keys() are identical. They both check if the key 'cat' exists \n",
    "in the dictionary spam.\n",
    "\n",
    "The in operator checks if a value exists as a key in the dictionary. If the key exists, the in operator returns \n",
    "True. If the key does not exist, the in operator returns False.\n",
    "\n",
    "The keys() method returns a list of all the keys in the dictionary. The in operator can also be used to check \n",
    "if a value exists in a list. In this case, the in operator will return True if the value exists in the list, \n",
    "and False if the value does not exist in the list."
   ]
  },
  {
   "cell_type": "markdown",
   "id": "e6f13a5d",
   "metadata": {},
   "source": [
    "### Q.6 If a dictionary is stored in spam, what is the difference between the expressions 'cat' in spam and 'cat' in spam.values()?"
   ]
  },
  {
   "cell_type": "code",
   "execution_count": null,
   "id": "832d8f08",
   "metadata": {},
   "outputs": [],
   "source": [
    "The expressions 'cat' in spam and 'cat' in spam.values() are different. The expression 'cat' in spam checks \n",
    "if the key cat exists in the dictionary spam. The expression 'cat' in spam.values() checks if the value \n",
    "cat exists in the values of the dictionary spam.\n",
    "\n",
    "The in operator checks if a value exists as a key in the dictionary. If the key exists, the in operator \n",
    "returns True. If the key does not exist, the in operator returns False.\n",
    "\n",
    "The values() method returns a list of all the values in the dictionary. "
   ]
  },
  {
   "cell_type": "markdown",
   "id": "4bb33990",
   "metadata": {},
   "source": [
    "### Q.7 What is a shortcut for the following code?\n",
    "if 'color' not in spam:\n",
    "spam['color'] = 'black'"
   ]
  },
  {
   "cell_type": "code",
   "execution_count": null,
   "id": "de611d09",
   "metadata": {},
   "outputs": [],
   "source": [
    "The shortcut for the following code is:\n",
    "spam.setdefault('color', 'black')\n",
    "\n",
    "The setdefault() method is used to set a value for a key in a dictionary if the key does not already exist. \n",
    "The method takes two arguments: the key and the default value. If the key does not exist in the dictionary, \n",
    "the method will set the key to the default value. If the key does exist in the dictionary, \n",
    "the method will not change the value of the key.\n",
    "\n",
    "In this case, the setdefault() method will set the key color to the value black if the key does \n",
    "not already exist in the dictionary spam. If the key color does already exist in the dictionary, \n",
    "the method will not change the value of the key."
   ]
  },
  {
   "cell_type": "markdown",
   "id": "e526850e",
   "metadata": {},
   "source": [
    "### Q.8 How do you \"pretty print\" dictionary values using which module and function?"
   ]
  },
  {
   "cell_type": "code",
   "execution_count": null,
   "id": "7aac1358",
   "metadata": {},
   "outputs": [],
   "source": [
    "To \"pretty print\" dictionary values in Python, you can use the pprint() function from the pprint module.\n",
    "The pprint() function takes a dictionary as input and returns a string representation of the dictionary \n",
    "with appropriate indentation and line breaks.\n",
    "\n",
    "To use the pprint() function, you first need to import the pprint module. You can do this by adding the following \n",
    "line to the top of your Python file:\n",
    "import pprint\n",
    "\n",
    "Once you have imported the pprint module, you can use the pprint() function to pretty print your dictionary. \n",
    "For example, the following code pretty prints the dictionary spam:\n",
    "\n",
    "spam = {'name': 'Praveen', 'age': 28, 'address': {'city': 'Bhopal', 'state': 'MP'}}\n",
    "pprint(spam)\n",
    "\n",
    "This will print the following output:\n",
    "\n",
    "{'age': 28,\n",
    " 'address': {'city': 'Bhopal',\n",
    "             'state': 'MP'},\n",
    " 'name': 'Praveen'}\n",
    "\n",
    "The pprint() function is a powerful tool that can be used to make your Python code more readable and understandable.\n",
    "\n"
   ]
  }
 ],
 "metadata": {
  "kernelspec": {
   "display_name": "Python 3 (ipykernel)",
   "language": "python",
   "name": "python3"
  },
  "language_info": {
   "codemirror_mode": {
    "name": "ipython",
    "version": 3
   },
   "file_extension": ".py",
   "mimetype": "text/x-python",
   "name": "python",
   "nbconvert_exporter": "python",
   "pygments_lexer": "ipython3",
   "version": "3.9.13"
  }
 },
 "nbformat": 4,
 "nbformat_minor": 5
}
