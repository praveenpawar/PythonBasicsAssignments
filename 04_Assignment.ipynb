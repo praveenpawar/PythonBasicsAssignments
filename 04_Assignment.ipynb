{
 "cells": [
  {
   "cell_type": "markdown",
   "id": "53a06d17",
   "metadata": {},
   "source": [
    "# Assignment - 4"
   ]
  },
  {
   "cell_type": "markdown",
   "id": "0f429dbf",
   "metadata": {},
   "source": [
    "### by praveen pawar"
   ]
  },
  {
   "cell_type": "markdown",
   "id": "3de6dbde",
   "metadata": {},
   "source": [
    "#### Q.1 What exactly is []?"
   ]
  },
  {
   "cell_type": "code",
   "execution_count": null,
   "id": "7f883e09",
   "metadata": {},
   "outputs": [],
   "source": [
    "In Python, [] is used to define a list. A list is a data structure that can store a collection of values. \n",
    "The values in a list can be of any type, and they can be repeated. To create a list, \n",
    "you simply put the values you want to store inside the brackets, separated by commas. \n",
    "For example, the following code creates a list called my_list that contains the values 1, 2, and 3:\n",
    "my_list = [1, 2, 3]\n"
   ]
  },
  {
   "cell_type": "markdown",
   "id": "b10d962a",
   "metadata": {},
   "source": [
    "#### Q.2 In a list of values stored in a variable called spam, how would you assign the value 'hello' as the third value? (Assume [2, 4, 6, 8, 10] are in spam.)"
   ]
  },
  {
   "cell_type": "code",
   "execution_count": null,
   "id": "4e024a1a",
   "metadata": {},
   "outputs": [],
   "source": [
    "To assign the value 'hello' as the third value in a list of values stored in a variable called spam, \n",
    "you can use the following code:\n",
    "spam[2] = 'hello'\n",
    "This will assign the value 'hello' to the third element in the list spam, which is currently the value 6. \n",
    "The list will now look like this:\n",
    "[2, 4, 'hello', 8, 10]\n"
   ]
  },
  {
   "cell_type": "markdown",
   "id": "409cab6f",
   "metadata": {},
   "source": [
    "## Let's pretend the spam includes the list ['a', 'b', 'c', 'd'] for the next three queries."
   ]
  },
  {
   "cell_type": "markdown",
   "id": "ad8516e1",
   "metadata": {},
   "source": [
    "### Q.3 What is the value of spam[int(int('3' * 2) / 11)]?"
   ]
  },
  {
   "cell_type": "code",
   "execution_count": null,
   "id": "a5473ad2",
   "metadata": {},
   "outputs": [],
   "source": [
    "The value of spam[int(int('3' * 2) / 11)] is 'd'.\n",
    "\n",
    "Here is the breakdown:\n",
    "\n",
    "* '3' * 2 = '33'\n",
    "* int('33') = 33\n",
    "* 33 // 11 = 3\n",
    "* int(3) = 3\n",
    "* spam[3] = 'd'\n",
    "\n",
    "Therefore, the value of spam[int(int('3' * 2) / 11)] is 'd'."
   ]
  },
  {
   "cell_type": "markdown",
   "id": "642a93ad",
   "metadata": {},
   "source": [
    "### Q.4 What is the value of spam[-1]?"
   ]
  },
  {
   "cell_type": "code",
   "execution_count": null,
   "id": "873b8419",
   "metadata": {},
   "outputs": [],
   "source": [
    "The value of spam[-1] is 'd'.\n",
    "\n",
    "In Python, negative indexes are used to access elements from the end of a list. The last element in a list has an index of -1, \n",
    "the second-to-last element has an index of -2, and so on.\n",
    "\n",
    "Therefore, spam[-1] will access the last element in the list, which is 'd'."
   ]
  },
  {
   "cell_type": "markdown",
   "id": "258ca318",
   "metadata": {},
   "source": [
    "### Q.5 What is the value of spam[:2]?"
   ]
  },
  {
   "cell_type": "code",
   "execution_count": null,
   "id": "0d1d9cde",
   "metadata": {},
   "outputs": [],
   "source": [
    "The value of spam[:2] is ['a', 'b'].\n",
    "\n",
    "The colon (:) in a slice expression can be used to specify a range of elements to be returned. \n",
    "In this case, the colon is used to specify that all elements from the beginning of the list \n",
    "to the second element should be returned.\n",
    "\n",
    "Therefore, spam[:2] will return the first two elements in the list, which are 'a' and 'b'."
   ]
  },
  {
   "cell_type": "markdown",
   "id": "77be68bd",
   "metadata": {},
   "source": [
    "## Let's pretend bacon has the list [3.14, 'cat,' 11, 'cat,' True] for the next three questions."
   ]
  },
  {
   "cell_type": "markdown",
   "id": "6558ec77",
   "metadata": {},
   "source": [
    "### Q.6 What is the value of bacon.index('cat')?"
   ]
  },
  {
   "cell_type": "code",
   "execution_count": null,
   "id": "ade0818d",
   "metadata": {},
   "outputs": [],
   "source": [
    "The value of bacon.index('cat') is 1.\n",
    "\n",
    "The index() method is used to find the first occurrence of a value in a list. In this case, the value we are looking \n",
    "for is 'cat'. The index() method will return the index of the first occurrence of 'cat' in the list, which is 1.\n",
    "\n",
    "Therefore, the value of bacon.index('cat') is 1."
   ]
  },
  {
   "cell_type": "markdown",
   "id": "6c76d370",
   "metadata": {},
   "source": [
    "### Q.7 How does bacon.append(99) change the look of the list value in bacon?"
   ]
  },
  {
   "cell_type": "code",
   "execution_count": null,
   "id": "d9a718ac",
   "metadata": {},
   "outputs": [],
   "source": [
    "\n",
    "The append() method is used to add a new value to the end of a list. In this case, we are adding the value \n",
    "99 to the end of the list bacon. The list will now look like this:\n",
    "[3.14, 'cat', 11, 'cat', True, 99]\n"
   ]
  },
  {
   "cell_type": "markdown",
   "id": "c218be98",
   "metadata": {},
   "source": [
    "### Q.8 How does bacon.remove('cat') change the look of the list in bacon?"
   ]
  },
  {
   "cell_type": "code",
   "execution_count": null,
   "id": "d856cc2c",
   "metadata": {},
   "outputs": [],
   "source": [
    "The remove() method is used to remove a value from a list. In this case, we are removing the value 'cat' \n",
    "from the list bacon. The list will now look like this:\n",
    "[3.14, 11, True, 99]\n"
   ]
  },
  {
   "cell_type": "markdown",
   "id": "12ccc4cd",
   "metadata": {},
   "source": [
    "### Q.9 What are the list concatenation and list replication operators?"
   ]
  },
  {
   "cell_type": "code",
   "execution_count": null,
   "id": "907aec4b",
   "metadata": {},
   "outputs": [],
   "source": [
    "The list concatenation operator is +, while the list replication operator is *.\n",
    "\n",
    "List concatenation is used to combine two or more lists into a single list. For example, the following code will create \n",
    "a new list that contains the elements of the lists a and b:\n",
    "a = [1, 2, 3]\n",
    "b = [4, 5, 6]\n",
    "\n",
    "c = a + b\n",
    "print(c)\n",
    "\n",
    "This will print the following output:\n",
    "[1, 2, 3, 4, 5, 6]\n",
    "\n",
    "List replication is used to create a new list that contains a specified number of copies of an existing list. For example, \n",
    "the following code will create a new list that contains 3 copies of the list a:\n",
    "a = [1, 2, 3]\n",
    "\n",
    "b = a * 3\n",
    "\n",
    "print(b)\n",
    "\n",
    "This will print the following output:\n",
    "[1, 2, 3, 1, 2, 3, 1, 2, 3]\n"
   ]
  },
  {
   "cell_type": "markdown",
   "id": "306b0b98",
   "metadata": {},
   "source": [
    "### Q.10 What is difference between the list methods append() and insert()?"
   ]
  },
  {
   "cell_type": "code",
   "execution_count": null,
   "id": "c00be41f",
   "metadata": {},
   "outputs": [],
   "source": [
    "The main difference between the append() and insert() methods is that append() adds an item to the end of a list, \n",
    "while insert() adds an item to a specified position in a list.\n",
    "\n",
    "The append() method takes one argument, which is the item to be added to the list. \n",
    "The insert() method takes two arguments, which are the index of the position where \n",
    "the item should be inserted and the item to be inserted.\n",
    "\n",
    "For example, the following code will add the item \"apple\" to the end of the list fruits:\n",
    "fruits = [\"banana\", \"orange\"]\n",
    "\n",
    "fruits.append(\"apple\")\n",
    "\n",
    "print(fruits)\n",
    "This will print the following output:\n",
    "['banana', 'orange', 'apple']\n",
    "\n",
    "The following code will add the item \"apple\" to the first position in the list fruits:\n",
    "fruits = [\"banana\", \"orange\"]\n",
    "\n",
    "fruits.insert(0, \"apple\")\n",
    "\n",
    "print(fruits)\n",
    "This will print the following output:\n",
    "['apple', 'banana', 'orange']\n"
   ]
  },
  {
   "cell_type": "markdown",
   "id": "44c81d14",
   "metadata": {},
   "source": [
    "### Q.11 What are the two methods for removing items from a list?"
   ]
  },
  {
   "cell_type": "code",
   "execution_count": null,
   "id": "f59e0dcb",
   "metadata": {},
   "outputs": [],
   "source": [
    "1. The remove() method\n",
    "The remove() method takes one argument, which is the item to be removed from the list. \n",
    "The first occurrence of the item in the list will be removed. If the item does not exist in the list, \n",
    "a ValueError exception will be raised.\n",
    "\n",
    "For example, the following code will remove the item \"apple\" from the list fruits:\n",
    "fruits = [\"banana\", \"apple\", \"orange\"]\n",
    "fruits.remove(\"apple\")\n",
    "print(fruits)\n",
    "\n",
    "['banana', 'orange']\n",
    "\n",
    "2. The del statement\n",
    "The del statement can be used to remove an item from a list by specifying its index. \n",
    "The index is the position of the item in the list, starting at 0.\n",
    "\n",
    "For example, the following code will remove the item at index 0 from the list fruits:\n",
    "fruits = [\"banana\", \"apple\", \"orange\"]\n",
    "del fruits[0]\n",
    "print(fruits)\n",
    "\n",
    "['apple', 'orange']\n",
    "\n",
    "The del statement can also be used to remove the entire list. \n",
    "For example, the following code will delete the list fruits:\n",
    "\n",
    "del fruits\n"
   ]
  },
  {
   "cell_type": "markdown",
   "id": "135309e0",
   "metadata": {},
   "source": [
    "### Q.12 Describe how list values and string values are identical."
   ]
  },
  {
   "cell_type": "code",
   "execution_count": null,
   "id": "d6498ea6",
   "metadata": {},
   "outputs": [],
   "source": [
    "List values and string values are not identical in Python. The main difference is that list values are mutable, \n",
    "while string values are immutable. This means that list values can be changed, while string values cannot.\n",
    "\n",
    "Another difference is that list values can contain any type of data, while string values can only contain characters. \n",
    "This means that a list value can contain a string, an integer, a float, or any other type of data. \n",
    "A string value can only contain characters.\n",
    "\n",
    "Finally, list values are enclosed in square brackets, while string values are enclosed in single or double quotes."
   ]
  },
  {
   "cell_type": "markdown",
   "id": "6abd5fe5",
   "metadata": {},
   "source": [
    "### Q.13 What's the difference between tuples and lists?"
   ]
  },
  {
   "cell_type": "code",
   "execution_count": null,
   "id": "f4531f96",
   "metadata": {},
   "outputs": [],
   "source": [
    "The main difference between tuples and lists is that tuples are immutable, while lists are mutable. \n",
    "This means that tuples cannot be changed once they have been created, while lists can be changed.\n",
    "\n",
    "Another difference is that tuples are enclosed in parentheses, while lists are enclosed in square brackets.\n",
    "\n",
    "Feature    Tuple    List\n",
    "Mutability Immutable Mutable\n",
    "Enclosing brackets Parentheses Square brackets\n",
    "Speed  Faster than list Slower than tuples\n",
    "Memory usage  Uses less memory than lists  Uses more memory than tuples\n",
    "\n",
    "Here are some examples of how tuples and lists can be used:\n",
    "# Create a tuple\n",
    "tuple_value = (1, 2, 3)\n",
    "\n",
    "# Create a list\n",
    "list_value = [1, 2, 3]\n",
    "\n",
    "# Change the value of an element in a list\n",
    "list_value[0] = 10\n",
    "\n",
    "# This will raise an error, because tuples are immutable\n",
    "tuple_value[0] = 10\n",
    "\n",
    "# Add an element to a list\n",
    "list_value.append(4)\n",
    "\n",
    "# This will raise an error, because tuples cannot be changed\n",
    "tuple_value.append(4)\n",
    "\n",
    "# Iterate over a tuple\n",
    "for value in tuple_value:\n",
    "  print(value)\n",
    "\n",
    "# Iterate over a list\n",
    "for value in list_value:\n",
    "  print(value)\n"
   ]
  },
  {
   "cell_type": "markdown",
   "id": "78d45d1f",
   "metadata": {},
   "source": [
    "### Q.14 How do you type a tuple value that only contains the integer 42?"
   ]
  },
  {
   "cell_type": "code",
   "execution_count": null,
   "id": "41566bf1",
   "metadata": {},
   "outputs": [],
   "source": [
    "To type a tuple value that only contains the integer 42, you can use the following syntax:\n",
    "(42,)\n",
    "The trailing comma is mandatory."
   ]
  },
  {
   "cell_type": "markdown",
   "id": "ba446b5b",
   "metadata": {},
   "source": [
    "### Q.15 How do you get a list value's tuple form? How do you get a tuple value's list form?"
   ]
  },
  {
   "cell_type": "code",
   "execution_count": null,
   "id": "4e951d0d",
   "metadata": {},
   "outputs": [],
   "source": [
    "To get a list values tuple form, you can use the tuple() function. For example, \n",
    "the following code will get the tuple form of the list my_list:\n",
    "my_list = [1, 2, 3]\n",
    "tuple_form = tuple(my_list)\n",
    "print(tuple_form)\n",
    "(1, 2, 3)\n",
    "\n",
    "To get a tuple values list form, you can use the list() function. For example, \n",
    "the following code will get the list form of the tuple my_tuple:\n",
    "my_tuple = (1, 2, 3)\n",
    "list_form = list(my_tuple)\n",
    "print(list_form)\n",
    "[1, 2, 3]\n"
   ]
  },
  {
   "cell_type": "markdown",
   "id": "66646a62",
   "metadata": {},
   "source": [
    "### Q.16 Variables that \"contain\" list values are not necessarily lists themselves. Instead, what do they contain?"
   ]
  },
  {
   "cell_type": "code",
   "execution_count": null,
   "id": "12987fa6",
   "metadata": {},
   "outputs": [],
   "source": [
    "Variables that contain list values do not contain the list values themselves. Instead, they contain a \n",
    "reference to the list values. This means that the variable stores the address of the list in memory,\n",
    "not the list itself."
   ]
  },
  {
   "cell_type": "markdown",
   "id": "be30a320",
   "metadata": {},
   "source": [
    "### Q.17 How do you distinguish between copy.copy() and copy.deepcopy()?"
   ]
  },
  {
   "cell_type": "code",
   "execution_count": null,
   "id": "a3347266",
   "metadata": {},
   "outputs": [],
   "source": [
    "The copy.copy() and copy.deepcopy() functions are both used to create copies of objects in Python. However, \n",
    "there is a key difference between the two functions.\n",
    "\n",
    "The copy.copy() function creates a shallow copy of an object. This means that the copy will contain\n",
    "a reference to the same objects as the original object. Any changes made to the original \n",
    "object will be reflected in the copy.\n",
    "\n",
    "The copy.deepcopy() function creates a deep copy of an object. This means that the copy will contain \n",
    "a reference to new objects, which are created from the original objects. Any changes made to the original \n",
    "object will not be reflected in the copy.\n",
    "\n",
    "Here is an example of the difference between copy.copy() and copy.deepcopy():\n",
    "\n",
    ">>> my_list = [1, 2, 3]\n",
    ">>> my_list_copy = copy.copy(my_list)\n",
    ">>> my_list_deepcopy = copy.deepcopy(my_list)\n",
    ">>> my_list[0] = 10\n",
    ">>> my_list_copy\n",
    "[10, 2, 3]\n",
    ">>> my_list_deepcopy\n",
    "[1, 2, 3]\n",
    "\n",
    "As you can see, changing the value of the first element in my_list also changes the value of the first element \n",
    "in my_list_copy. However, changing the value of the first element in my_list does not change the value of \n",
    "the first element in my_list_deepcopy."
   ]
  }
 ],
 "metadata": {
  "kernelspec": {
   "display_name": "Python 3 (ipykernel)",
   "language": "python",
   "name": "python3"
  },
  "language_info": {
   "codemirror_mode": {
    "name": "ipython",
    "version": 3
   },
   "file_extension": ".py",
   "mimetype": "text/x-python",
   "name": "python",
   "nbconvert_exporter": "python",
   "pygments_lexer": "ipython3",
   "version": "3.9.13"
  }
 },
 "nbformat": 4,
 "nbformat_minor": 5
}
