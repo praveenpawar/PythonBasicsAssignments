{
 "cells": [
  {
   "cell_type": "markdown",
   "id": "7830a4fe",
   "metadata": {},
   "source": [
    "# Assignment - 1 \n",
    "## by praveen pawar"
   ]
  },
  {
   "cell_type": "markdown",
   "id": "7d481873",
   "metadata": {},
   "source": [
    "1. In the below elements which of them are values or an expression? eg:- values can be integer or string and expressions will be mathematical operators.\n",
    "* \n",
    "'hello'\n",
    "-87.8\n",
    "- \n",
    "/ \n",
    "+\n",
    "6\n",
    "\n",
    "Answer: \n",
    "\n",
    "* => expression\n",
    "'hello' => value\n",
    "-87.8 => value\n",
    "- => expression\n",
    "/ => expression\n",
    "+ => expression\n",
    "6 => value\n"
   ]
  },
  {
   "cell_type": "markdown",
   "id": "703762f3",
   "metadata": {},
   "source": [
    "2. What is the difference between string and variable?\n",
    "Answer:\n",
    "a string is a specific data type that represents a sequence of characters, while a variable is a container that can store a value of any data type, including strings.\n",
    "ex. name = \"Praveen Pawar\"\n",
    "In this example, \"name\" is a variable that stores the string \"Praveen Pawar\""
   ]
  },
  {
   "cell_type": "markdown",
   "id": "dcf807aa",
   "metadata": {},
   "source": [
    "3. Describe three different data types.\n",
    "Answer:\n",
    "Here are three of the most common data types in Python:\n",
    "\n",
    "Integer: Integers, or int, are whole numbers, both positive and negative. In Python, you can define an integer by simply assigning a numeric value to a variable. \n",
    "For example, x = 5 assigns the integer value 5 to the variable x. You can perform arithmetic operations on integers, such as addition, subtraction, multiplication, and division.\n",
    "\n",
    "String: Strings, or str, are a sequence of characters enclosed in single or double quotation marks. You can define a string by enclosing characters in quotes, like this: my_string = \"Hello, World!\". \n",
    "Python allows you to manipulate strings in many ways, such as concatenating them with other strings, splitting them into substrings, or converting them to uppercase or lowercase.\n",
    "\n",
    "Boolean: Booleans, or bool, are a data type that represent truth values. A boolean can have two values: True or False. \n",
    "In Python, you can define a boolean value by assigning the value True or False to a variable. \n",
    "For example, is_raining = True assigns the boolean value True to the variable is_raining. \n",
    "Booleans are often used in conditional statements and loops to control the flow of a program.\n"
   ]
  },
  {
   "cell_type": "markdown",
   "id": "2ec10ee8",
   "metadata": {},
   "source": [
    "4. What is an expression made up of? What do all expressions do?\n",
    "Answer:\n",
    "an expression is a combination of values, variables, operators, and function calls that evaluates to a single value. An expression can be made up of one or more operands and operators. Operands are the values or variables used in the expression, and operators are the symbols used to perform operations on the operands.\n",
    "\n",
    "For example, 2 + 3 is an expression that consists of two operands (2 and 3) and an operator (+). The expression evaluates to the value 5."
   ]
  },
  {
   "cell_type": "markdown",
   "id": "dc53c240",
   "metadata": {},
   "source": [
    "5. This assignment statements, like spam = 10. What is the difference between an expression and a statement?\n",
    "Answer:\n",
    "The difference between expressions and statements is that expressions produce values, while statements perform actions. Expressions can be used as part of larger expressions or as part of statements, while statements cannot be used as part of expressions.\n",
    "\n",
    "An assignment statement, such as spam = 10, is a type of statement that assigns a value to a variable. Other examples of statements in Python include control flow statements, such as if, for, and while statements, function and class definitions, and import statements.\n",
    "\n",
    "An expression produces a value, which can be used as part of a larger expression or assigned to a variable.\n",
    "For example, 2 + 3 is an expression that evaluates to the value 5. Similarly, len(\"hello\") is an expression that evaluates to the value 5."
   ]
  },
  {
   "cell_type": "markdown",
   "id": "0624ed05",
   "metadata": {},
   "source": [
    "6. After running the following code, what does the variable bacon contain?\n",
    "bacon = 22\n",
    "bacon + 1\n",
    "Answer: 23"
   ]
  },
  {
   "cell_type": "markdown",
   "id": "dd30aa6a",
   "metadata": {},
   "source": [
    "7. What should the values of the following two terms be?\n",
    "'spam' + 'spamspam'\n",
    "'spam' * 3\n",
    "Answer:\n",
    "'spam' + 'spamspam' => 'spamspamspam'\n",
    "'spam' * 3 => 'spamspamspam'"
   ]
  },
  {
   "cell_type": "markdown",
   "id": "aafe4867",
   "metadata": {},
   "source": [
    "8. Why is eggs a valid variable name while 100 is invalid?\n",
    "Answer:\n",
    "In Python, variable names must follow certain rules in order to be valid. \n",
    "\n",
    "Here are some of the basic rules for naming variables in Python:\n",
    "\n",
    "Variable names must begin with a letter (a-z, A-Z) or an underscore (_).\n",
    "Subsequent characters in the variable name can be letters, numbers, or underscores.\n",
    "Variable names are case-sensitive, so spam, Spam, and SPAM are three different variables.\n",
    "Variable names cannot be the same as Python keywords or built-in functions, such as if, while, and, or, print, input, and others.\n",
    "Based on these rules, eggs is a valid variable name because it begins with a letter and only contains letters.\n",
    "\n",
    "On the other hand, 100 is not a valid variable name because it begins with a number, which is not allowed. Variable names must begin with a letter or an underscore."
   ]
  },
  {
   "cell_type": "markdown",
   "id": "b53ff44c",
   "metadata": {},
   "source": [
    "9. What three functions can be used to get the integer, floating-point number, or string version of a value?\n",
    "Answer:\n",
    "The int(), float(), and str() are three functions can be used to get the integer, floating-point number, or string version of a value."
   ]
  },
  {
   "cell_type": "markdown",
   "id": "d4a9df1a",
   "metadata": {},
   "source": [
    "10. Why does this expression cause an error? How can you fix it?\n",
    "'I have eaten ' + 99 + ' burritos.'\n",
    "Answer:\n",
    "The expression 'I have eaten ' + 99 + ' burritos.' causes an error because it tries to concatenate a string ('I have eaten ') with an integer (99) using the + operator. In Python, you cannot concatenate different data types using the + operator.\n",
    "\n",
    "To fix this error, you can convert the integer to a string using the str() function before concatenating it with the string.\n",
    "'I have eaten ' + str(99) + ' burritos.'"
   ]
  }
 ],
 "metadata": {
  "kernelspec": {
   "display_name": "Python 3 (ipykernel)",
   "language": "python",
   "name": "python3"
  },
  "language_info": {
   "codemirror_mode": {
    "name": "ipython",
    "version": 3
   },
   "file_extension": ".py",
   "mimetype": "text/x-python",
   "name": "python",
   "nbconvert_exporter": "python",
   "pygments_lexer": "ipython3",
   "version": "3.9.13"
  }
 },
 "nbformat": 4,
 "nbformat_minor": 5
}
