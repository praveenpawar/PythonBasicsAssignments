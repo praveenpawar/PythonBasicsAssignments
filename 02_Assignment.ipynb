{
 "cells": [
  {
   "cell_type": "markdown",
   "id": "5b60aead",
   "metadata": {},
   "source": [
    "# Assignment - 2"
   ]
  },
  {
   "cell_type": "markdown",
   "id": "ed0b1212",
   "metadata": {},
   "source": [
    "### by praveen pawar"
   ]
  },
  {
   "cell_type": "code",
   "execution_count": null,
   "id": "f3538cb0",
   "metadata": {},
   "outputs": [],
   "source": [
    "1.What are the two values of the Boolean data type? How do you write them?\n",
    "Ans:\n",
    "    The Boolean data type has two possible values: \"true\" and \"false\". "
   ]
  },
  {
   "cell_type": "code",
   "execution_count": null,
   "id": "c1a08612",
   "metadata": {},
   "outputs": [],
   "source": [
    "2. What are the three different types of Boolean operators?\n",
    "Ans:\n",
    "    The three different types of Boolean operators are:\n",
    "\n",
    "\"AND\" operator: This operator returns \"true\" only if both the operands are true, and returns \"false\" otherwise. \n",
    "                It is often represented by the symbol \"&&\" or the word \"AND\". \n",
    "                For example, the expression \"x > 5 && y < 10\" will return \"true\" only if the value of \"x\" is greater than 5 and the value of \"y\" is less than 10.\n",
    "\n",
    "\"OR\" operator: This operator returns \"true\" if at least one of the operands is true, and returns \"false\" if both operands are false. \n",
    "                It is often represented by the symbol \"||\" or the word \"OR\". \n",
    "                For example, the expression \"x > 5 || y < 10\" will return \"true\" if either the value of \"x\" is greater than 5 or the value of \"y\" is less than 10.\n",
    "\n",
    "\"NOT\" operator: This operator returns the opposite of the operands value. \n",
    "                If the operand is true, the \"NOT\" operator will return false, and if the operand is false, the \"NOT\" operator will return true. \n",
    "                It is often represented by the symbol \"!\" or the word \"NOT\". \n",
    "                For example, the expression \"!x > 5\" will return \"true\" only if the value of \"x\" is not greater than 5."
   ]
  },
  {
   "cell_type": "code",
   "execution_count": null,
   "id": "06b881d6",
   "metadata": {},
   "outputs": [],
   "source": [
    "3. Make a list of each Boolean operators truth tables (i.e. every possible combination of Boolean values for the operator and what it evaluate ).\n",
    "Ans:\n",
    "    Here are the truth tables for each of the three Boolean operators:\n",
    "\n",
    "\"AND\" operator:\n",
    "Operand 1\tOperand 2\tResult\n",
    "true\ttrue\ttrue\n",
    "true\tfalse\tfalse\n",
    "false\ttrue\tfalse\n",
    "false\tfalse\tfalse\n",
    "\"OR\" operator:\n",
    "Operand 1\tOperand 2\tResult\n",
    "true\ttrue\ttrue\n",
    "true\tfalse\ttrue\n",
    "false\ttrue\ttrue\n",
    "false\tfalse\tfalse\n",
    "\"NOT\" operator:\n",
    "Operand\tResult\n",
    "true\tfalse\n",
    "false\ttrue\n",
    "These truth tables show all the possible combinations of Boolean values for each operator and the resulting value that is returned when the operator is applied to those values."
   ]
  },
  {
   "cell_type": "code",
   "execution_count": null,
   "id": "e08a7f63",
   "metadata": {},
   "outputs": [],
   "source": [
    "4. What are the values of the following expressions?\n",
    "(5 > 4) and (3 == 5)\n",
    "not (5 > 4)\n",
    "(5 > 4) or (3 == 5)\n",
    "not ((5 > 4) or (3 == 5))\n",
    "(True and True) and (True == False)\n",
    "(not False) or (not True)\n",
    "Ans:\n",
    "    (5 > 4) and (3 == 5) : False\n",
    "    not (5 > 4) : False\n",
    "    (5 > 4) or (3 == 5) : True\n",
    "    not ((5 > 4) or (3 == 5)) : False\n",
    "    (True and True) and (True == False) : False\n",
    "    (not False) or (not True) : True\n",
    "    "
   ]
  },
  {
   "cell_type": "code",
   "execution_count": null,
   "id": "b27a40dd",
   "metadata": {},
   "outputs": [],
   "source": [
    "5. What are the six comparison operators?\n",
    "Ans:\n",
    "    The six comparison operators are:\n",
    "\n",
    "\"Equal to\" operator (==): This operator compares two values to see if they are equal. It returns \"true\" if the two values are equal and \"false\" otherwise.\n",
    "\n",
    "\"Not equal to\" operator (!=): This operator compares two values to see if they are not equal. It returns \"true\" if the two values are not equal and \"false\" otherwise.\n",
    "\n",
    "\"Greater than\" operator (>): This operator compares two values to see if the first value is greater than the second value. It returns \"true\" if the first value is greater than the second value and \"false\" otherwise.\n",
    "\n",
    "\"Less than\" operator (<): This operator compares two values to see if the first value is less than the second value. It returns \"true\" if the first value is less than the second value and \"false\" otherwise.\n",
    "\n",
    "\"Greater than or equal to\" operator (>=): This operator compares two values to see if the first value is greater than or equal to the second value. It returns \"true\" if the first value is greater than or equal to the second value and \"false\" otherwise.\n",
    "\n",
    "\"Less than or equal to\" operator (<=): This operator compares two values to see if the first value is less than or equal to the second value. It returns \"true\" if the first value is less than or equal to the second value and \"false\" otherwise."
   ]
  },
  {
   "cell_type": "code",
   "execution_count": null,
   "id": "265123f0",
   "metadata": {},
   "outputs": [],
   "source": [
    "6. How do you tell the difference between the equal to and assignment operators?Describe a condition and when you would use one.\n",
    "ANs:\n",
    "    The equal to operator (==) is used to compare two values to see if they are equal, while the assignment operator (=) is used to assign a value to a variable.\n",
    "\n",
    "    The difference between the two operators is that the assignment operator (=) assigns a value to a variable, whereas the equal to operator (==) compares two values to see if they are equal."
   ]
  },
  {
   "cell_type": "code",
   "execution_count": null,
   "id": "2fb21cd8",
   "metadata": {},
   "outputs": [],
   "source": [
    "7. Identify the three blocks in this code:\n",
    "spam = 0\n",
    "if spam == 10:\n",
    "print('eggs')\n",
    "if spam > 5:\n",
    "print('bacon')\n",
    "else:\n",
    "print('ham')\n",
    "print('spam')\n",
    "print('spam')\n",
    "\n",
    "Ans:\n",
    "    First block:\n",
    "spam = 0\n",
    "if spam == 10:\n",
    "print('eggs')\n",
    "if spam > 5:\n",
    "print('bacon')\n",
    "else:\n",
    "print('ham')\n",
    "    Second block:\n",
    "print('spam') \n",
    "    Third block:\n",
    "print('spam')"
   ]
  },
  {
   "cell_type": "code",
   "execution_count": null,
   "id": "37de88e6",
   "metadata": {},
   "outputs": [],
   "source": [
    "8. Write code that prints Hello if 1 is stored in spam, prints Howdy if 2 is stored in spam, and prints Greetings! if anything else is stored in spam.\n",
    "Ans:\n",
    "spam=0\n",
    "if spam==1:\n",
    "    print('Hello')\n",
    "elif spam ==2:\n",
    "    print('Howdy')\n",
    "else:\n",
    "    print('Greetings!')"
   ]
  },
  {
   "cell_type": "code",
   "execution_count": null,
   "id": "78f8e649",
   "metadata": {},
   "outputs": [],
   "source": [
    "9.If your programme is stuck in an endless loop, what keys you’ll press?\n",
    "Ans: CTR+C to exit an endless loop."
   ]
  },
  {
   "cell_type": "code",
   "execution_count": null,
   "id": "d3d8968f",
   "metadata": {},
   "outputs": [],
   "source": [
    "10. How can you tell the difference between break and continue?\n",
    "Ans:\n",
    "    \"Break\" is used to terminate a loop early, while \"continue\" is used to skip the current iteration of the loop and move on to the next iteration. \n",
    "example: \n",
    "    for i in range(10):\n",
    "    if i == 5:\n",
    "        break\n",
    "    print(i)\n",
    "output:\n",
    "0\n",
    "1\n",
    "2\n",
    "3\n",
    "4\n",
    "example:\n",
    "    for i in range(10):\n",
    "    if i == 5:\n",
    "        continue\n",
    "    print(i)\n",
    "output:\n",
    "0\n",
    "1\n",
    "2\n",
    "3\n",
    "4\n",
    "6\n",
    "7\n",
    "8\n",
    "9\n",
    "    "
   ]
  },
  {
   "cell_type": "code",
   "execution_count": null,
   "id": "7cf17515",
   "metadata": {},
   "outputs": [],
   "source": []
  }
 ],
 "metadata": {
  "kernelspec": {
   "display_name": "Python 3 (ipykernel)",
   "language": "python",
   "name": "python3"
  },
  "language_info": {
   "codemirror_mode": {
    "name": "ipython",
    "version": 3
   },
   "file_extension": ".py",
   "mimetype": "text/x-python",
   "name": "python",
   "nbconvert_exporter": "python",
   "pygments_lexer": "ipython3",
   "version": "3.9.13"
  }
 },
 "nbformat": 4,
 "nbformat_minor": 5
}
