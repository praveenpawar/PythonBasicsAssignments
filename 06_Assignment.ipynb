{
 "cells": [
  {
   "cell_type": "markdown",
   "id": "2d661302",
   "metadata": {},
   "source": [
    "# Assignment - 6"
   ]
  },
  {
   "cell_type": "markdown",
   "id": "800cd550",
   "metadata": {},
   "source": [
    "### by praveen pawar"
   ]
  },
  {
   "cell_type": "markdown",
   "id": "37a34e8e",
   "metadata": {},
   "source": [
    "### Q.1 What are escape characters, and how do you use them?"
   ]
  },
  {
   "cell_type": "code",
   "execution_count": null,
   "id": "2d5d59b1",
   "metadata": {},
   "outputs": [],
   "source": [
    "Escape characters are used in Python to represent special characters in strings. \n",
    "A backslash (\\) followed by a character tells Python to interpret the character in a special way.\n",
    "\n",
    "Some common escape characters in Python include:\n",
    "\n",
    "\\n - newline\n",
    "\\t - tab\n",
    "\\b - backspace\n",
    "\\r - carriage return\n",
    "\\f - form feed\n",
    "\\' - single quote\n",
    "\\\" - double quote\n",
    "\\\\ - backslash\n",
    "\n",
    "To use an escape character, simply type a backslash followed by the character you want to escape. \n",
    "For example, to insert a newline character, you would type \\n."
   ]
  },
  {
   "cell_type": "markdown",
   "id": "2fe644c9",
   "metadata": {},
   "source": [
    "### Q.2 What do the escape characters n and t stand for?"
   ]
  },
  {
   "cell_type": "code",
   "execution_count": null,
   "id": "823b774d",
   "metadata": {},
   "outputs": [],
   "source": [
    "The escape characters \\n and \\t stand for newline and tab, respectively.\n",
    "\n",
    "\\n represents a newline character, which causes the cursor to move to the beginning of the next line.\n",
    "\\t represents a tab character, which causes the cursor to move to the next tab stop.\n",
    "\n",
    "These escape characters can be used in Python strings to insert special characters into your code or text."
   ]
  },
  {
   "cell_type": "markdown",
   "id": "e6dd9298",
   "metadata": {},
   "source": [
    "### Q.3 What is the way to include backslash characters in a string?"
   ]
  },
  {
   "cell_type": "code",
   "execution_count": null,
   "id": "1a24bfed",
   "metadata": {},
   "outputs": [],
   "source": [
    "There are two ways to include backslash characters in a string in Python.\n",
    "\n",
    "The first way is to use a backslash followed by the character you want to escape. For example, \n",
    "to include a backslash character in a string, you would type \\\\.\n",
    "\n",
    "The second way is to use a raw string. A raw string is a string that starts with a double backslash (r). \n",
    "In a raw string, all characters are interpreted literally, including backslashes. For example, \n",
    "the following code will print the following output:\n",
    "    \n",
    "print(r\"This string contains a backslash character: \\\\\")\n",
    "\n",
    "output:\n",
    "This string contains a backslash character: \\\n"
   ]
  },
  {
   "cell_type": "markdown",
   "id": "13f4b7fa",
   "metadata": {},
   "source": [
    "### Q.4 The string \"Howl's Moving Castle\" is a correct value. Why isn't the single quote character in the word Howl's not escaped a problem?"
   ]
  },
  {
   "cell_type": "code",
   "execution_count": null,
   "id": "257b3c88",
   "metadata": {},
   "outputs": [],
   "source": [
    "The string \"Howl's Moving Castle\" is a correct value because it is enclosed in double quotes. \n",
    "Single quotes are only special characters when they are enclosed in single quotes. So, the single quote in the word \n",
    "\"Howl's\" is not a problem because it is enclosed in double quotes."
   ]
  },
  {
   "cell_type": "markdown",
   "id": "5360db09",
   "metadata": {},
   "source": [
    "### Q.5 How do you write a string of newlines if you don't want to use the n character?"
   ]
  },
  {
   "cell_type": "code",
   "execution_count": null,
   "id": "dad7db7c",
   "metadata": {},
   "outputs": [],
   "source": [
    "You can write a string of newlines in Python by using triple quotes. Triple quotes are three consecutive quotes \n",
    "of the same type, either single quotes (''') or double quotes (\"\"\"). For example, the following code will create\n",
    "a string with three newlines: \n",
    "\n",
    "string = \"\"\"\n",
    "This is a line\n",
    "with three newlines.\n",
    "\"\"\"\n",
    "output:\n",
    "This is a line\n",
    "with three newlines.\n"
   ]
  },
  {
   "cell_type": "markdown",
   "id": "14134fa3",
   "metadata": {},
   "source": [
    "### Q.6 What are the values of the given expressions?\n",
    "'Hello, world!'[1]\n",
    "\n",
    "'Hello, world!'[0:5]\n",
    "\n",
    "'Hello, world!'[:5]\n",
    "\n",
    "'Hello, world!'[3:]\n"
   ]
  },
  {
   "cell_type": "code",
   "execution_count": null,
   "id": "4e87afb3",
   "metadata": {},
   "outputs": [],
   "source": [
    "'Hello, world!'[1] = 'e'\n",
    "'Hello, world!'[0:5] = 'Hello'\n",
    "'Hello, world!'[:5] = 'Hello'\n",
    "'Hello, world!'[3:] = 'lo world!'\n"
   ]
  },
  {
   "cell_type": "markdown",
   "id": "e9f50908",
   "metadata": {},
   "source": [
    "### Q.7 What are the values of the following expressions?\n",
    "'Hello'.upper()\n",
    "\n",
    "'Hello'.upper().isupper()\n",
    "\n",
    "'Hello'.upper().lower()"
   ]
  },
  {
   "cell_type": "code",
   "execution_count": null,
   "id": "b47c54e9",
   "metadata": {},
   "outputs": [],
   "source": [
    "'Hello'.upper() = 'HELLO'\n",
    "'Hello'.upper().isupper() = True\n",
    "'Hello'.upper().lower() = 'hello'\n"
   ]
  },
  {
   "cell_type": "markdown",
   "id": "c593ca54",
   "metadata": {},
   "source": [
    "### Q.8 What are the values of the following expressions?\n",
    "'Remember, remember, the fifth of July.'.split()\n",
    "\n",
    "'-'.join('There can only one.'.split())"
   ]
  },
  {
   "cell_type": "code",
   "execution_count": null,
   "id": "459cd510",
   "metadata": {},
   "outputs": [],
   "source": [
    "'Remember, remember, the fifth of July.'.split() = ['Remember,', 'remember,', 'the', 'fifth', 'of', 'July.']\n",
    "'-'.join('There can only one.'.split()) = 'There-can-only-one.'\n",
    "\n",
    "The first expression, 'Remember, remember, the fifth of July.'.split(), returns a list of strings, where each string \n",
    "is a word in the original string. \n",
    "The second expression, '-'.join('There can only one.'.split()), returns a string that is the original string, \n",
    "with each word separated by a hyphen."
   ]
  },
  {
   "cell_type": "markdown",
   "id": "2e8b9929",
   "metadata": {},
   "source": [
    "### Q.9 What are the methods for right-justifying, left-justifying, and centering a string?"
   ]
  },
  {
   "cell_type": "code",
   "execution_count": null,
   "id": "87e54e17",
   "metadata": {},
   "outputs": [],
   "source": [
    "There are three methods for right-justifying, left-justifying, and centering a string in Python:\n",
    "\n",
    "rjust() : This method returns a copy of the string right-justified in a string of the specified width. \n",
    "    The default fill character is a space.\n",
    "ljust() : This method returns a copy of the string left-justified in a string of the specified width. \n",
    "    The default fill character is a space.\n",
    "center() : This method returns a copy of the string centered in a string of the specified width. \n",
    "    The default fill character is a space.\n",
    "    \n",
    "For example, the following code will right-justify the string \"Hello, world!\" in a string of width 15:\n",
    "\n",
    ">>> \"Hello, world!\".rjust(15)\n",
    "'Hello, world    '\n",
    "\n",
    ">>> \"Hello, world!\".ljust(15)\n",
    "'     Hello, world!'\n",
    "\n",
    ">>> \"Hello, world!\".center(15)\n",
    "'  Hello, world!  '\n",
    "\n",
    "You can also specify the fill character to be used by passing it as an argument to the rjust(), ljust(), or center() methods. \n",
    "For example, the following code will right-justify the string \"Hello, world!\" in a string of width 15, using the fill \n",
    "character \"-\" to pad the left side of the string:\n",
    "    \n",
    ">>> \"Hello, world!\".rjust(15, \"-\")\n",
    "'-----Hello, world!'\n"
   ]
  },
  {
   "cell_type": "markdown",
   "id": "6e5f7173",
   "metadata": {},
   "source": [
    "### Q.10 What is the best way to remove whitespace characters from the start or end?"
   ]
  },
  {
   "cell_type": "code",
   "execution_count": null,
   "id": "69a89a65",
   "metadata": {},
   "outputs": [],
   "source": [
    "There are two ways to remove whitespace characters from the start or end of a string in Python:\n",
    "\n",
    "lstrip() : This method removes all whitespace characters from the left side of the string.\n",
    "rstrip() : This method removes all whitespace characters from the right side of the string.\n",
    "    \n",
    "For example, the following code will remove all whitespace characters from the start and end of the string \" Hello, world! \":\n",
    "    \n",
    ">>> \" Hello, world! \".lstrip().rstrip()\n",
    "'Hello, world!'\n"
   ]
  }
 ],
 "metadata": {
  "kernelspec": {
   "display_name": "Python 3 (ipykernel)",
   "language": "python",
   "name": "python3"
  },
  "language_info": {
   "codemirror_mode": {
    "name": "ipython",
    "version": 3
   },
   "file_extension": ".py",
   "mimetype": "text/x-python",
   "name": "python",
   "nbconvert_exporter": "python",
   "pygments_lexer": "ipython3",
   "version": "3.9.13"
  }
 },
 "nbformat": 4,
 "nbformat_minor": 5
}
