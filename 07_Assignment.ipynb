{
 "cells": [
  {
   "cell_type": "markdown",
   "id": "497c7c0d",
   "metadata": {},
   "source": [
    "# Assignment - 7"
   ]
  },
  {
   "cell_type": "markdown",
   "id": "987cf2ae",
   "metadata": {},
   "source": [
    "### by praveen pawar"
   ]
  },
  {
   "cell_type": "markdown",
   "id": "1c1a2ea9",
   "metadata": {},
   "source": [
    "### Q.1 What is the name of the feature responsible for generating Regex objects?"
   ]
  },
  {
   "cell_type": "code",
   "execution_count": null,
   "id": "ab984255",
   "metadata": {},
   "outputs": [],
   "source": [
    "The feature responsible for generating Regex objects in Python programming language is the re module. \n",
    "The re module provides a set of functions that allow you to work with regular expressions. To generate a Regex \n",
    "object, you can use the re.compile() function. The re.compile() function takes a regular expression pattern \n",
    "as its argument and returns a Regex object. You can then use the Regex object to search for and match regular \n",
    "expressions in strings."
   ]
  },
  {
   "cell_type": "markdown",
   "id": "93abb80d",
   "metadata": {},
   "source": [
    "### Q.2 Why do raw strings often appear in Regex objects?"
   ]
  },
  {
   "cell_type": "code",
   "execution_count": null,
   "id": "6e3d62f6",
   "metadata": {},
   "outputs": [],
   "source": [
    "Raw strings often appear in Regex objects because they allow you to write regular expressions without having to \n",
    "escape backslashes. Backslashes are used in regular expressions to escape special characters, such as newline, tab, \n",
    "and carriage return. However, if you use a raw string, you can write the regular expression without having to escape \n",
    "the backslashes. This makes the regular expression more readable and easier to maintain."
   ]
  },
  {
   "cell_type": "markdown",
   "id": "c2b9d73a",
   "metadata": {},
   "source": [
    "### Q.3 What is the return value of the search() method?"
   ]
  },
  {
   "cell_type": "code",
   "execution_count": null,
   "id": "844fc575",
   "metadata": {},
   "outputs": [],
   "source": [
    "The re.search() method returns a MatchObject if the pattern is found in the string, or None if the pattern is not found. \n",
    "The MatchObject object has a number of attributes that you can use to access information about the match, such as the start \n",
    "and end positions of the match, the matched text, and the captured groups."
   ]
  },
  {
   "cell_type": "markdown",
   "id": "ae53b5e1",
   "metadata": {},
   "source": [
    "### Q.4 From a Match item, how do you get the actual strings that match the pattern?"
   ]
  },
  {
   "cell_type": "code",
   "execution_count": null,
   "id": "90e11072",
   "metadata": {},
   "outputs": [],
   "source": [
    "To get the actual strings that match the pattern from a Match item, you can use the .group() method. \n",
    "The .group() method returns the matched text. If the pattern has captured groups, you can use the .groups() \n",
    "method to get a tuple containing all of the captured groups."
   ]
  },
  {
   "cell_type": "markdown",
   "id": "6dc5e65f",
   "metadata": {},
   "source": [
    "### Q.5 In the regex which created from the r'(\\d\\d\\d)-(\\d\\d\\d-\\d\\d\\d\\d)', what does group zero cover? Group 2? Group 1?"
   ]
  },
  {
   "cell_type": "code",
   "execution_count": null,
   "id": "fe9ce6dc",
   "metadata": {},
   "outputs": [],
   "source": [
    "In the regex created from the r'(\\d\\d\\d)-(\\d\\d\\d-\\d\\d\\d\\d)', group 0 covers the entire match, group 1 covers the first three \n",
    "digits, and group 2 covers the last four digits.\n",
    "\n",
    "Here is a breakdown of the regex:\n",
    "\n",
    "r' -> This is the start of a raw string.\n",
    "\\d\\d\\d -> This matches three digits.\n",
    "- -> This matches a hyphen.\n",
    "\\d\\d\\d-\\d\\d\\d\\d - This matches four digits, a hyphen, and four more digits.\n",
    "' -> This is the end of a raw string.\n",
    "\n",
    "So, the regex matches a phone number in the format of (###) ###-####. \n",
    "Group 0 will contain the entire match, group 1 will contain the first three digits, and group 2 will contain \n",
    "the last four digits.\n",
    "    \n",
    "import re\n",
    "\n",
    "# Create a regular expression pattern\n",
    "pattern = re.compile(r'(\\d\\d\\d)-(\\d\\d\\d-\\d\\d\\d\\d)')\n",
    "\n",
    "# Search for the regular expression in a string\n",
    "text = \"My phone number is 123-456-7890\"\n",
    "\n",
    "# Match the regular expression in the string\n",
    "match = re.search(pattern, text)\n",
    "\n",
    "# Check if the regular expression was found\n",
    "if match:\n",
    "    # Get the matched phone number\n",
    "    phone_number = match.group()\n",
    "\n",
    "    # Print the matched phone number\n",
    "    print(phone_number)\n",
    "\n",
    "    # Get the captured groups\n",
    "    groups = match.groups()\n",
    "\n",
    "    # Print the captured groups\n",
    "    print(groups)\n",
    "\n",
    "This code will print the following output:\n",
    "\n",
    "123-456-7890\n",
    "(123, 456, 7890)\n"
   ]
  }
 ],
 "metadata": {
  "kernelspec": {
   "display_name": "Python 3 (ipykernel)",
   "language": "python",
   "name": "python3"
  },
  "language_info": {
   "codemirror_mode": {
    "name": "ipython",
    "version": 3
   },
   "file_extension": ".py",
   "mimetype": "text/x-python",
   "name": "python",
   "nbconvert_exporter": "python",
   "pygments_lexer": "ipython3",
   "version": "3.9.13"
  }
 },
 "nbformat": 4,
 "nbformat_minor": 5
}
